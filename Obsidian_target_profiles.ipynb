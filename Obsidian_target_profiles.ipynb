{
 "cells": [
  {
   "cell_type": "code",
   "execution_count": 1,
   "id": "8e06a3e9",
   "metadata": {},
   "outputs": [],
   "source": [
    "from pptx import Presentation\n",
    "from bs4 import BeautifulSoup as bs\n",
    "import markdown\n",
    "import os\n",
    "import re"
   ]
  },
  {
   "cell_type": "code",
   "execution_count": 2,
   "id": "4744ff16",
   "metadata": {},
   "outputs": [],
   "source": [
    "# prs = Presentation(\"BaseballCard.pptx\")\n",
    "# # bbcard_entity_layout = prs.slide_layouts[7]\n",
    "# # slide = prs.slides.add_slide(bbcard_entity_layout)\n",
    "# # title = slide.shapes.title\n",
    "# # # subtitle = slide.placeholders[1]\n",
    "\n",
    "# # title.text = \"Hello, World!\"\n",
    "# # subtitle.text = \"python-pptx was here!\"\n",
    "\n",
    "# prs.save('BlankBBCard.pptx')"
   ]
  },
  {
   "cell_type": "markdown",
   "id": "d1db31e6",
   "metadata": {},
   "source": [
    "### Read in Obsidian files"
   ]
  },
  {
   "cell_type": "code",
   "execution_count": 84,
   "id": "e61debeb",
   "metadata": {},
   "outputs": [],
   "source": [
    "class ProfileBuilder():\n",
    "    def __init__(self):\n",
    "        print(\"init()\")\n",
    "        \n",
    "        self.path = None\n",
    "        self.entities_to_parse = []\n",
    "        self.raw_entity_data = {}\n",
    "        self.final_entity_data = {}\n",
    "        \n",
    "    def create_profiles(self, path: str, entity_type: str):\n",
    "        print(\"create_profiles()\")\n",
    "        self.path = path\n",
    "        \n",
    "        self.scan_dir_for_md_files()\n",
    "        \n",
    "        self.read_md_files_into_soup(entity_type)\n",
    "        print(len(self.raw_entity_data))\n",
    "        \n",
    "        self.parse_entity_info_from_soup()\n",
    "    \n",
    "    def scan_dir_for_md_files(self):\n",
    "#         entities_to_parse = []\n",
    "        for file in os.listdir(self.path):\n",
    "            if file.endswith(\"md\"):\n",
    "                self.entities_to_parse.append(file)\n",
    "#         return entities_to_parse\n",
    "    \n",
    "    def read_md_files_into_soup(self, entity_type):\n",
    "        for i in self.entities_to_parse[0:1]:\n",
    "            name = i.replace(\".md\", \"\")\n",
    "            self.raw_entity_data[name] = {\"entity_type\": entity_type}\n",
    "            self.final_entity_data[name] = {\"entity_type\": entity_type}\n",
    "\n",
    "            html = None\n",
    "            with open(f\"{self.path}/{i}\", \"r\", encoding=\"utf-8\") as f:\n",
    "                text = f.read()\n",
    "\n",
    "            html = markdown.markdown(text)\n",
    "            soup = bs(html)\n",
    "            self.raw_entity_data[name][\"soup\"] = soup\n",
    "        \n",
    "    def parse_entity_info_from_soup(self):\n",
    "        for name, data in self.raw_entity_data.items():            \n",
    "            # Change to switch statement !\n",
    "            if data[\"entity_type\"] == \"person\":\n",
    "                print(\"this is a person profile\")\n",
    "                self.get_person_info(name, data[\"soup\"])\n",
    "    \n",
    "    def get_person_info(self, name, soup):\n",
    "        # Get all paragraph tags\n",
    "        all_p_tags = soup.find_all(\"p\")\n",
    "        print(all_p_tags)\n",
    "        \n",
    "        # Find pic filename and create path string\n",
    "        pic_path = self.get_person_pic_path(all_p_tags)\n",
    "        print(pic_path)\n",
    "        \n",
    "        self.final_entity_data[name][\"pic_path\"] = pic_path\n",
    "        print()\n",
    "        \n",
    "        # Find all list item tags\n",
    "        all_li_tags = soup.find_all(\"li\")\n",
    "        print(all_li_tags)\n",
    "        \n",
    "        print(self.final_entity_data)\n",
    "\n",
    "\n",
    "    def get_person_pic_path(self, all_p_tags):\n",
    "        person_pic = None\n",
    "\n",
    "        # Find correct p tag to parse\n",
    "        try:\n",
    "            person_pic = list(filter(lambda x: \"Picture\" in x.get_text(), all_p_tags))[0]\n",
    "        except IndexError:\n",
    "            print(\"There is no p tag with a picture in it\")\n",
    "            pass\n",
    "\n",
    "        if not person_pic:\n",
    "            return\n",
    "\n",
    "        # Parse filename from p tag\n",
    "        bracketed_filename_pattern = \"([0-9A-Z]{1,}[\\_\\s]{0,}[0-9A-Z]{1,}\\.{1}[0-9A-Z]{1,3})\"\n",
    "        try:\n",
    "            person_pic = re.search(bracketed_filename_pattern, str(person_pic), re.IGNORECASE)[0]\n",
    "        except TypeError:\n",
    "            print(\"There is no pic filename\")\n",
    "            person_pic = None\n",
    "            pass\n",
    "\n",
    "        if not person_pic:\n",
    "            return\n",
    "\n",
    "        print(person_pic)\n",
    "\n",
    "        return f\"Assets/{person_pic.strip()}\""
   ]
  },
  {
   "cell_type": "code",
   "execution_count": 85,
   "id": "5296b850",
   "metadata": {},
   "outputs": [
    {
     "name": "stdout",
     "output_type": "stream",
     "text": [
      "init()\n",
      "create_profiles()\n",
      "1\n",
      "this is a person profile\n",
      "[<p>tags:\n",
      "  - Person_Of_Interest</p>, <p><code>Picture</code> <br/>![[Arron_Gaines.jpg | 250]]</p>, <p><code>Detail</code> Subject likely lives and works in New York City, New York based on social media including pictures and check-ins. Follower/following relationships on social media platforms indicate a connection with Austin, Texas-based [[Kevin Ellison]]. Research on social engineering forums revealed usernames that were traced back to email addresses with a common web domain which has been separately flagged for malicious activity. Additional research on the emails suggests Gaines and Ellison are the probable end users. </p>]\n",
      "Arron_Gaines.jpg\n",
      "Assets/Arron_Gaines.jpg\n",
      "\n",
      "[<li><code>Note</code> No previous criminal convictions</li>, <li><code>Note</code> Known phishing victims include: [[Elsie Graves]], [[Wilfredo Goodman]], and [[Jan Jackson]]</li>, <li><code>Associate</code> [[Kevin Ellison]]</li>, <li><code>Email Address</code> <em>probably uses</em> [[mglanman@mycbt(.)me]]</li>, <li><code>Phone Number</code> [[+1472-217-7096]]</li>, <li><code>Phone Number</code> +1(202)-918-2132</li>, <li><code>Residence Name</code> [[350 Central Park West Apartments]]</li>, <li><code>Residence Address</code> 350 Central Park West, New York, NY 10025</li>, <li><code>Residence Coordinates</code> 40.79078819123121, -73.96568568759587</li>, <li><code>Residence Map</code> <br/> ![[350_Central_Park_West_Apartments.JPG | 500]]</li>, <li><code>Work Name</code> undetermined organization at [[30 Rockefeller Plaza]]</li>, <li><code>Work Address</code> 30 Rockefeller Plaza, New York, NY 10112</li>, <li><code>Work Coordinates</code> 40.758941635700246, -73.97900684718394</li>, <li><code>Work Map</code> <br/> ![[30_Rockefeller_Plaza.JPG | 500]]</li>]\n",
      "{'Arron Gaines': {'entity_type': 'person', 'pic_path': 'Assets/Arron_Gaines.jpg'}}\n"
     ]
    }
   ],
   "source": [
    "target_dir = \"Investigation/People\"\n",
    "\n",
    "builder = ProfileBuilder()\n",
    "builder.create_profiles(target_dir, \"person\")"
   ]
  },
  {
   "cell_type": "code",
   "execution_count": 19,
   "id": "99167929",
   "metadata": {
    "scrolled": true
   },
   "outputs": [],
   "source": [
    "# raw_entity_data = {}\n",
    "# final_entity_data = {}\n",
    "\n",
    "# # Read each markdown file in and convert to HTML then convert to soup\n",
    "# for i in entities_to_parse[0:]:\n",
    "#     name = i.replace(\".md\", \"\")\n",
    "#     raw_entity_data[name] = {}\n",
    "#     final_entity_data[name] = {}\n",
    "    \n",
    "#     html = None\n",
    "#     with open(f\"{case_dir}/{target_dir}/{i}\", \"r\", encoding=\"utf-8\") as f:\n",
    "#         text = f.read()\n",
    "    \n",
    "#     html = markdown.markdown(text)\n",
    "#     soup = bs(html)\n",
    "#     raw_entity_data[name][\"soup\"] = soup\n",
    "\n",
    "# # raw_entity_data"
   ]
  },
  {
   "cell_type": "code",
   "execution_count": 22,
   "id": "daa4edb7",
   "metadata": {},
   "outputs": [
    {
     "data": {
      "text/plain": [
       "True"
      ]
     },
     "execution_count": 22,
     "metadata": {},
     "output_type": "execute_result"
    }
   ],
   "source": [
    "# # Determine if file is for Person of Interest\n",
    "# to_find = \"Person_Of_Interest\"\n",
    "\n",
    "# is_person_file = any([to_find in tag.get_text() for tag in all_p_tags])\n",
    "# is_person_file"
   ]
  },
  {
   "cell_type": "code",
   "execution_count": 26,
   "id": "05bb221a",
   "metadata": {},
   "outputs": [],
   "source": [
    "prefixes = {\n",
    "    \"Detail\": [\n",
    "        \"Detail\",\n",
    "    ],\n",
    "    \"Associate\": [\n",
    "        \"Associate\",\n",
    "    ],\n",
    "    \"Identifier\": [\n",
    "        \"Identifier\",\n",
    "    ],\n",
    "    \"Location\": [\n",
    "        \"Work Name\",\n",
    "        \"Work Address\",\n",
    "        \"Work Coordinates\",\n",
    "        \"Residence Name\",\n",
    "        \"Residence Address\",\n",
    "        \"Residence Coordinates\",\n",
    "    ],\n",
    "}"
   ]
  },
  {
   "cell_type": "code",
   "execution_count": null,
   "id": "951ad4b9",
   "metadata": {},
   "outputs": [],
   "source": [
    "def gather_li_tags_by_type(x, tag_types):\n",
    "    code_tag = None\n",
    "    try:\n",
    "        code_tag = x.find(\"code\")\n",
    "    except TypeError:\n",
    "        print(\"li did not contain a `Code` tag \")\n",
    "        return False\n",
    "    \n",
    "    if not code_tag:\n",
    "        return False\n",
    "    \n",
    "    if any(tag in code_tag for tag in tag_types):\n",
    "        return True\n",
    "    else:\n",
    "        return False"
   ]
  },
  {
   "cell_type": "code",
   "execution_count": null,
   "id": "ba84530c",
   "metadata": {},
   "outputs": [],
   "source": [
    "detail_tags = list(filter(lambda x: gather_li_tags_by_type(x, prefixes[\"Detail\"]), all_li_tags))\n",
    "detail_tags"
   ]
  },
  {
   "cell_type": "code",
   "execution_count": null,
   "id": "6a4abbb3",
   "metadata": {},
   "outputs": [],
   "source": [
    "associate_tags = list(filter(lambda x: gather_li_tags_by_type(x, prefixes[\"Associate\"]), all_li_tags))\n",
    "associate_tags"
   ]
  },
  {
   "cell_type": "code",
   "execution_count": null,
   "id": "25b2c8f1",
   "metadata": {},
   "outputs": [],
   "source": [
    "identifier_tags = list(filter(lambda x: gather_li_tags_by_type(x, prefixes[\"Identifier\"]), all_li_tags))\n",
    "identifier_tags"
   ]
  },
  {
   "cell_type": "code",
   "execution_count": null,
   "id": "0f27649a",
   "metadata": {},
   "outputs": [],
   "source": [
    "location_tags = list(filter(lambda x: gather_li_tags_by_type(x, prefixes[\"Location\"]), all_li_tags))\n",
    "location_tags"
   ]
  },
  {
   "cell_type": "code",
   "execution_count": null,
   "id": "48ca2ef9",
   "metadata": {},
   "outputs": [],
   "source": [
    "def remove_code_tag_substring(raw_tag):\n",
    "    cleaned_tag = None\n",
    "    try:\n",
    "        cleaned_tag = re.sub(\"<code>.*</code>\", \"\", str(raw_tag))\n",
    "        return cleaned_tag\n",
    "    except:\n",
    "        print(\"substring doesn't have a `Code` tag in it\")\n",
    "        return raw_tag\n",
    "\n",
    "def get_text_inside_li_tags(raw_tag):\n",
    "    inside_text = None\n",
    "    try:\n",
    "        inside_text = re.match(\"(<li>)(.*)(</li>)\", raw_tag)[2]\n",
    "        return inside_text.strip()\n",
    "    except:\n",
    "        return raw_tag\n",
    "\n",
    "def get_text_from_obsidian_links(raw_tag):\n",
    "    \"\"\"Match Obsidian's link format and extract characters between double square brackets\"\"\"\n",
    "    try:\n",
    "        match_obj = re.match(\"(.*)(\\[\\[)(.*)(\\]\\])(.*)\", raw_tag)        \n",
    "#         print(\"0\", match_obj[0]) # match object\n",
    "#         print(\"1\", match_obj[1]) # match group 1, etc...\n",
    "#         print(\"2\", match_obj[2])\n",
    "#         print(\"3\", match_obj[3])\n",
    "#         print(\"4\", match_obj[4])\n",
    "#         print(\"5\", match_obj[5])\n",
    "        text_before = match_obj[1]\n",
    "        text_inside = match_obj[3]\n",
    "        text_after = match_obj[5]\n",
    "        rebuilt = f\"{text_before.strip()} {text_inside.strip()} {text_after.strip()}\"\n",
    "        return rebuilt.strip()\n",
    "    except TypeError:\n",
    "        print(\"did not have any double brackets\")\n",
    "        return raw_tag.strip()\n",
    "\n",
    "def extract_info_from_li_tag(x):\n",
    "    cleaned = remove_code_tag_substring(x)\n",
    "#     print(\"cleaned1: \", cleaned)\n",
    "    \n",
    "    cleaned = get_text_inside_li_tags(cleaned)\n",
    "#     print(\"cleaned2: \", cleaned)\n",
    "\n",
    "    cleaned = get_text_from_obsidian_links(cleaned)\n",
    "#     print(\"cleaned3: \", cleaned)\n",
    "\n",
    "    return cleaned"
   ]
  },
  {
   "cell_type": "code",
   "execution_count": null,
   "id": "cfaf16f2",
   "metadata": {},
   "outputs": [],
   "source": [
    "detail_tags = list(map(lambda x: extract_info_from_li_tag(x), detail_tags))\n",
    "detail_tags"
   ]
  },
  {
   "cell_type": "code",
   "execution_count": null,
   "id": "6f02b552",
   "metadata": {},
   "outputs": [],
   "source": [
    "associate_tags = list(map(lambda x: extract_info_from_li_tag(x), associate_tags))\n",
    "associate_tags"
   ]
  },
  {
   "cell_type": "code",
   "execution_count": null,
   "id": "2f2c5cf5",
   "metadata": {},
   "outputs": [],
   "source": [
    "identifier_tags = list(map(lambda x: extract_info_from_li_tag(x), identifier_tags))\n",
    "identifier_tags"
   ]
  },
  {
   "cell_type": "code",
   "execution_count": null,
   "id": "3fe966c5",
   "metadata": {},
   "outputs": [],
   "source": [
    "location_tags = list(map(lambda x: extract_info_from_li_tag(x), location_tags))\n",
    "location_tags"
   ]
  }
 ],
 "metadata": {
  "kernelspec": {
   "display_name": "Python 3 (ipykernel)",
   "language": "python",
   "name": "python3"
  },
  "language_info": {
   "codemirror_mode": {
    "name": "ipython",
    "version": 3
   },
   "file_extension": ".py",
   "mimetype": "text/x-python",
   "name": "python",
   "nbconvert_exporter": "python",
   "pygments_lexer": "ipython3",
   "version": "3.10.9"
  }
 },
 "nbformat": 4,
 "nbformat_minor": 5
}
