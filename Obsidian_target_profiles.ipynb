{
 "cells": [
  {
   "cell_type": "code",
   "execution_count": 1,
   "id": "8e06a3e9",
   "metadata": {},
   "outputs": [],
   "source": [
    "from pptx import Presentation\n",
    "from bs4 import BeautifulSoup as bs\n",
    "import markdown\n",
    "import os\n",
    "import re"
   ]
  },
  {
   "cell_type": "code",
   "execution_count": 2,
   "id": "4744ff16",
   "metadata": {},
   "outputs": [],
   "source": [
    "# prs = Presentation(\"BaseballCard.pptx\")\n",
    "# # bbcard_entity_layout = prs.slide_layouts[7]\n",
    "# # slide = prs.slides.add_slide(bbcard_entity_layout)\n",
    "# # title = slide.shapes.title\n",
    "# # # subtitle = slide.placeholders[1]\n",
    "\n",
    "# # title.text = \"Hello, World!\"\n",
    "# # subtitle.text = \"python-pptx was here!\"\n",
    "\n",
    "# prs.save('BlankBBCard.pptx')"
   ]
  },
  {
   "cell_type": "markdown",
   "id": "d1db31e6",
   "metadata": {},
   "source": [
    "### Read in Obsidian files"
   ]
  },
  {
   "cell_type": "code",
   "execution_count": 5,
   "id": "428f6dcb",
   "metadata": {},
   "outputs": [],
   "source": [
    "# case_dir = (input(\"Enter the name of the Obsidian directory to search: (It must be in this directory)\\n\")\n",
    "#            .strip())\n",
    "# print(case_dir)\n",
    "\n",
    "case_dir = \"Investigation\""
   ]
  },
  {
   "cell_type": "code",
   "execution_count": 6,
   "id": "76c0e39e",
   "metadata": {},
   "outputs": [],
   "source": [
    "case_sub_dirs = [i for i in os.listdir(case_dir) if not \".\" in i]\n",
    "case_sub_dirs\n",
    "\n",
    "# target_dir = (input(f\"Choose the subdirectory with entities to create target profiles for:\\n{case_sub_dirs}\\n\")\n",
    "#              .strip())\n",
    "# print(target_dir)\n",
    "\n",
    "target_dir = \"People\""
   ]
  },
  {
   "cell_type": "code",
   "execution_count": 44,
   "id": "8949b5a8",
   "metadata": {},
   "outputs": [
    {
     "name": "stdout",
     "output_type": "stream",
     "text": [
      "['Arron Gaines.md', 'Elsie Graves.md', 'Jan Jackson.md', 'Kevin Ellison.md', 'Wilfredo Goodman.md']\n"
     ]
    }
   ],
   "source": [
    "entities_to_parse = []\n",
    "\n",
    "for file in os.listdir(f\"{case_dir}/{target_dir}\"):\n",
    "    if file.endswith(\"md\"):\n",
    "        entities_to_parse.append(file)\n",
    "\n",
    "print(entities_to_parse)"
   ]
  },
  {
   "cell_type": "code",
   "execution_count": 303,
   "id": "99167929",
   "metadata": {
    "scrolled": true
   },
   "outputs": [],
   "source": [
    "entity_data = {}\n",
    "\n",
    "# Read each markdown file in and convert to HTML then convert to soup\n",
    "for i in entities_to_parse[0:1]:\n",
    "    entity_name = i.replace(\".md\", \"\")\n",
    "    entity_data[entity_name] = {}\n",
    "    \n",
    "    html = None\n",
    "    with open(f\"{case_dir}/{target_dir}/{i}\", \"r\", encoding=\"utf-8\") as f:\n",
    "        text = f.read()\n",
    "    \n",
    "    html = markdown.markdown(text)\n",
    "    soup = bs(html)\n",
    "    entity_data[entity_name][\"soup\"] = soup\n",
    "\n",
    "# entity_data"
   ]
  },
  {
   "cell_type": "markdown",
   "id": "216f6cda",
   "metadata": {},
   "source": [
    "For each person entity, want:\n",
    "- picture (path to)\n",
    "- summary details (maybe?)\n",
    "- associates list\n",
    "- identifiers list (email, phones, etc.)\n",
    "- locations list (home, work, etc.)"
   ]
  },
  {
   "cell_type": "code",
   "execution_count": 304,
   "id": "ddc5b7ae",
   "metadata": {},
   "outputs": [],
   "source": [
    "# Example item using first entity (for testing)\n",
    "ex = entity_data[\"Arron Gaines\"]\n",
    "# ex"
   ]
  },
  {
   "cell_type": "code",
   "execution_count": 305,
   "id": "49b58d59",
   "metadata": {},
   "outputs": [],
   "source": [
    "# # Find picture, get filename, reconstruct path, add to dict\n",
    "\n",
    "# # Determine picture filename and path\n",
    "# pic_tag = soup.find(\"code\", text=\"Picture\").next_sibling.string # relies on embedded picture being next\n",
    "# # print((type(pic_tag)))\n",
    "# # print(pic_tag)\n",
    "\n",
    "# pic_filename = re.search(\"([A-Z\\_]{1,}\\.[0-9A-Z]{1,7})\", pic_tag, re.IGNORECASE)[1]\n",
    "# # print(pic_filename)\n",
    "\n",
    "# pic_path = f\"Assets/{pic_filename}\" # need to check if ext is png, jpg, etc.\n",
    "# # print(pic_path)\n",
    "\n",
    "# ex[\"picture_path\"] = pic_path\n",
    "# ex"
   ]
  },
  {
   "cell_type": "code",
   "execution_count": 306,
   "id": "04e376d7",
   "metadata": {},
   "outputs": [
    {
     "name": "stdout",
     "output_type": "stream",
     "text": [
      "[<li><code>Detail</code> Subject is suspected of running a phishing campaign</li>, <li><code>Detail</code> Subject believed to be working with [[Kevin Ellison]]</li>, <li><code>Detail</code> Phishing victims include: [[Elsie Graves]], [[Wilfredo Goodman]], and [[Jan Jackson]]</li>, <li><code>Associate</code> works with: [[Kevin Ellison]]</li>, <li><code>Associate</code> works with other person</li>, <li><code>Associate</code> works with [[Arron Gaines]] as well</li>, <li><code>Identifier</code> (probably uses): [[mglanman@mycbt(.)me]]</li>, <li><code>Identifier</code> uses: [[+1472-217-7096]]</li>, <li><code>Identifier</code> possibly uses: 5712223344</li>, <li><code>Residence Name</code> [[350 Central Park West Apartments]]</li>, <li><code>Residence Address</code> 350 Central Park West, New York, NY 10025{</li>, <li><code>Residence Coordinates</code> 40.79078819123121, -73.96568568759587</li>, <li><code>Work Name</code> undetermined organization at [[30 Rockefeller Plaza]]</li>, <li><code>Work Address</code> 30 Rockefeller Plaza, New York, NY 10112</li>, <li><code>Work Coordinates</code> 40.758941635700246, -73.97900684718394</li>]\n"
     ]
    }
   ],
   "source": [
    "# Find all list item tags\n",
    "all_li_tags = soup.find_all(\"li\")\n",
    "print(all_li_tags)"
   ]
  },
  {
   "cell_type": "code",
   "execution_count": 307,
   "id": "20a061e7",
   "metadata": {},
   "outputs": [],
   "source": [
    "prefixes = {\n",
    "    \"Detail\": [\n",
    "        \"Detail\",\n",
    "    ],\n",
    "    \"Associate\": [\n",
    "        \"Associate\",\n",
    "    ],\n",
    "    \"Identifier\": [\n",
    "        \"Identifier\",\n",
    "    ],\n",
    "    \"Location\": [\n",
    "        \"Work Name\",\n",
    "        \"Work Address\",\n",
    "        \"Work Coordinates\",\n",
    "        \"Residence Name\",\n",
    "        \"Residence Address\",\n",
    "        \"Residence Coordinates\",\n",
    "    ],\n",
    "}"
   ]
  },
  {
   "cell_type": "code",
   "execution_count": 319,
   "id": "a7246bcf",
   "metadata": {},
   "outputs": [],
   "source": [
    "def gather_li_tags_by_type(x, tag_types):\n",
    "    code_tag = None\n",
    "    try:\n",
    "        code_tag = x.find(\"code\")\n",
    "    except TypeError:\n",
    "        print(\"li did not contain a `Code` tag \")\n",
    "        return False\n",
    "    \n",
    "    if not code_tag:\n",
    "        return False\n",
    "    \n",
    "    if any(tag in code_tag for tag in tag_types):\n",
    "        return True\n",
    "    else:\n",
    "        return False"
   ]
  },
  {
   "cell_type": "code",
   "execution_count": 320,
   "id": "42971bd6",
   "metadata": {},
   "outputs": [
    {
     "data": {
      "text/plain": [
       "[<li><code>Detail</code> Subject is suspected of running a phishing campaign</li>,\n",
       " <li><code>Detail</code> Subject believed to be working with [[Kevin Ellison]]</li>,\n",
       " <li><code>Detail</code> Phishing victims include: [[Elsie Graves]], [[Wilfredo Goodman]], and [[Jan Jackson]]</li>]"
      ]
     },
     "execution_count": 320,
     "metadata": {},
     "output_type": "execute_result"
    }
   ],
   "source": [
    "detail_tags = list(filter(lambda x: gather_li_tags_by_type(x, prefixes[\"Detail\"]), all_li_tags))\n",
    "detail_tags"
   ]
  },
  {
   "cell_type": "code",
   "execution_count": 321,
   "id": "b3c92139",
   "metadata": {},
   "outputs": [
    {
     "data": {
      "text/plain": [
       "[<li><code>Associate</code> works with: [[Kevin Ellison]]</li>,\n",
       " <li><code>Associate</code> works with other person</li>,\n",
       " <li><code>Associate</code> works with [[Arron Gaines]] as well</li>]"
      ]
     },
     "execution_count": 321,
     "metadata": {},
     "output_type": "execute_result"
    }
   ],
   "source": [
    "associate_tags = list(filter(lambda x: gather_li_tags_by_type(x, prefixes[\"Associate\"]), all_li_tags))\n",
    "associate_tags"
   ]
  },
  {
   "cell_type": "code",
   "execution_count": 322,
   "id": "2eae7840",
   "metadata": {},
   "outputs": [
    {
     "data": {
      "text/plain": [
       "[<li><code>Identifier</code> (probably uses): [[mglanman@mycbt(.)me]]</li>,\n",
       " <li><code>Identifier</code> uses: [[+1472-217-7096]]</li>,\n",
       " <li><code>Identifier</code> possibly uses: 5712223344</li>]"
      ]
     },
     "execution_count": 322,
     "metadata": {},
     "output_type": "execute_result"
    }
   ],
   "source": [
    "identifier_tags = list(filter(lambda x: gather_li_tags_by_type(x, prefixes[\"Identifier\"]), all_li_tags))\n",
    "identifier_tags"
   ]
  },
  {
   "cell_type": "code",
   "execution_count": 323,
   "id": "d399c9d6",
   "metadata": {},
   "outputs": [
    {
     "data": {
      "text/plain": [
       "[<li><code>Residence Name</code> [[350 Central Park West Apartments]]</li>,\n",
       " <li><code>Residence Address</code> 350 Central Park West, New York, NY 10025{</li>,\n",
       " <li><code>Residence Coordinates</code> 40.79078819123121, -73.96568568759587</li>,\n",
       " <li><code>Work Name</code> undetermined organization at [[30 Rockefeller Plaza]]</li>,\n",
       " <li><code>Work Address</code> 30 Rockefeller Plaza, New York, NY 10112</li>,\n",
       " <li><code>Work Coordinates</code> 40.758941635700246, -73.97900684718394</li>]"
      ]
     },
     "execution_count": 323,
     "metadata": {},
     "output_type": "execute_result"
    }
   ],
   "source": [
    "location_tags = list(filter(lambda x: gather_li_tags_by_type(x, prefixes[\"Location\"]), all_li_tags))\n",
    "location_tags"
   ]
  },
  {
   "cell_type": "code",
   "execution_count": 326,
   "id": "44e5eef9",
   "metadata": {},
   "outputs": [],
   "source": [
    "def remove_code_tag_substring(raw_tag):\n",
    "    cleaned_tag = None\n",
    "    try:\n",
    "        cleaned_tag = re.sub(\"<code>.*</code>\", \"\", str(raw_tag))\n",
    "        return cleaned_tag\n",
    "    except:\n",
    "        print(\"substring doesn't have a `Code` tag in it\")\n",
    "        return raw_tag\n",
    "\n",
    "def get_text_inside_li_tags(raw_tag):\n",
    "    inside_text = None\n",
    "    try:\n",
    "        inside_text = re.match(\"(<li>)(.*)(</li>)\", raw_tag)[2]\n",
    "        return inside_text.strip()\n",
    "    except:\n",
    "        return raw_tag\n",
    "\n",
    "def get_text_from_obsidian_links(raw_tag):\n",
    "    \"\"\"Match Obsidian's link format and extract characters between double square brackets\"\"\"\n",
    "    try:\n",
    "        match_obj = re.match(\"(.*)(\\[\\[)(.*)(\\]\\])(.*)\", raw_tag)        \n",
    "#         print(\"0\", match_obj[0]) # match object\n",
    "#         print(\"1\", match_obj[1]) # match group 1, etc...\n",
    "#         print(\"2\", match_obj[2])\n",
    "#         print(\"3\", match_obj[3])\n",
    "#         print(\"4\", match_obj[4])\n",
    "#         print(\"5\", match_obj[5])\n",
    "        text_before = match_obj[1]\n",
    "        text_inside = match_obj[3]\n",
    "        text_after = match_obj[5]\n",
    "        rebuilt = f\"{text_before.strip()} {text_inside.strip()} {text_after.strip()}\"\n",
    "        return rebuilt.strip()\n",
    "    except TypeError:\n",
    "        print(\"did not have any double brackets\")\n",
    "        return raw_tag.strip()\n",
    "\n",
    "def extract_info_from_li_tag(x):\n",
    "    cleaned = remove_code_tag_substring(x)\n",
    "#     print(\"cleaned1: \", cleaned)\n",
    "    \n",
    "    cleaned = get_text_inside_li_tags(cleaned)\n",
    "#     print(\"cleaned2: \", cleaned)\n",
    "\n",
    "    cleaned = get_text_from_obsidian_links(cleaned)\n",
    "#     print(\"cleaned3: \", cleaned)\n",
    "\n",
    "    return cleaned"
   ]
  },
  {
   "cell_type": "code",
   "execution_count": 327,
   "id": "ce5b4d60",
   "metadata": {},
   "outputs": [
    {
     "name": "stdout",
     "output_type": "stream",
     "text": [
      "did not have any double brackets\n",
      "did not have any double brackets\n"
     ]
    },
    {
     "data": {
      "text/plain": [
       "['Subject is suspected of running a phishing campaign',\n",
       " 'Subject believed to be working with Kevin Ellison',\n",
       " 'Phishing victims include: [[Elsie Graves]], Wilfredo Goodman , and Jan Jackson']"
      ]
     },
     "execution_count": 327,
     "metadata": {},
     "output_type": "execute_result"
    }
   ],
   "source": [
    "detail_tags = list(map(lambda x: extract_info_from_li_tag(x), detail_tags))\n",
    "detail_tags"
   ]
  },
  {
   "cell_type": "code",
   "execution_count": 328,
   "id": "754ed340",
   "metadata": {},
   "outputs": [
    {
     "name": "stdout",
     "output_type": "stream",
     "text": [
      "did not have any double brackets\n"
     ]
    },
    {
     "data": {
      "text/plain": [
       "['works with: Kevin Ellison',\n",
       " 'works with other person',\n",
       " 'works with Arron Gaines as well']"
      ]
     },
     "execution_count": 328,
     "metadata": {},
     "output_type": "execute_result"
    }
   ],
   "source": [
    "associate_tags = list(map(lambda x: extract_info_from_li_tag(x), associate_tags))\n",
    "associate_tags"
   ]
  },
  {
   "cell_type": "code",
   "execution_count": 329,
   "id": "e0a2445b",
   "metadata": {},
   "outputs": [
    {
     "name": "stdout",
     "output_type": "stream",
     "text": [
      "did not have any double brackets\n"
     ]
    },
    {
     "data": {
      "text/plain": [
       "['(probably uses): mglanman@mycbt(.)me',\n",
       " 'uses: +1472-217-7096',\n",
       " 'possibly uses: 5712223344']"
      ]
     },
     "execution_count": 329,
     "metadata": {},
     "output_type": "execute_result"
    }
   ],
   "source": [
    "identifier_tags = list(map(lambda x: extract_info_from_li_tag(x), identifier_tags))\n",
    "identifier_tags"
   ]
  },
  {
   "cell_type": "code",
   "execution_count": 330,
   "id": "cc934f6e",
   "metadata": {},
   "outputs": [
    {
     "name": "stdout",
     "output_type": "stream",
     "text": [
      "did not have any double brackets\n",
      "did not have any double brackets\n",
      "did not have any double brackets\n",
      "did not have any double brackets\n"
     ]
    },
    {
     "data": {
      "text/plain": [
       "['350 Central Park West Apartments',\n",
       " '350 Central Park West, New York, NY 10025{',\n",
       " '40.79078819123121, -73.96568568759587',\n",
       " 'undetermined organization at 30 Rockefeller Plaza',\n",
       " '30 Rockefeller Plaza, New York, NY 10112',\n",
       " '40.758941635700246, -73.97900684718394']"
      ]
     },
     "execution_count": 330,
     "metadata": {},
     "output_type": "execute_result"
    }
   ],
   "source": [
    "location_tags = list(map(lambda x: extract_info_from_li_tag(x), location_tags))\n",
    "location_tags"
   ]
  }
 ],
 "metadata": {
  "kernelspec": {
   "display_name": "Python 3 (ipykernel)",
   "language": "python",
   "name": "python3"
  },
  "language_info": {
   "codemirror_mode": {
    "name": "ipython",
    "version": 3
   },
   "file_extension": ".py",
   "mimetype": "text/x-python",
   "name": "python",
   "nbconvert_exporter": "python",
   "pygments_lexer": "ipython3",
   "version": "3.10.9"
  }
 },
 "nbformat": 4,
 "nbformat_minor": 5
}
